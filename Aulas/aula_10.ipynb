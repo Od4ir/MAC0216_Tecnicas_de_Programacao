{
 "cells": [
  {
   "cell_type": "markdown",
   "metadata": {},
   "source": [
    "# Aula 10/30 - 18/09/2023\n"
   ]
  },
  {
   "cell_type": "markdown",
   "metadata": {},
   "source": [
    "### Tópicos de Aula:\n",
    "+ Introdução aos Sistemas Operacionais;\n",
    "+ Shells;\n",
    "+ Bash;\n",
    "+ Questão 4;"
   ]
  },
  {
   "cell_type": "markdown",
   "metadata": {},
   "source": [
    "## Introdução aos Sistemas Operacionais\n"
   ]
  },
  {
   "cell_type": "markdown",
   "metadata": {},
   "source": [
    "Há dois tipos de software quando falamos de SO:\n",
    "+ **Programas de Sistema** - Gerenciam o funcionamento do computador. O principal programa de sistema que existe é o *sistema operacional*;\n",
    "+ **Programas Aplicativos** - Executam o trabalho que o usuário quer que seja feito;"
   ]
  },
  {
   "cell_type": "markdown",
   "metadata": {},
   "source": [
    "### Principais funções de um SO:"
   ]
  },
  {
   "cell_type": "markdown",
   "metadata": {},
   "source": [
    "+ 1 - Fornecer uma máquina estendida ou máquina virtual:\n",
    "    + Fornecer ao usuário interfaces que facilitam a interação com o hardware (chamada de sistema); \n",
    "+ 2 - Gerenciador de recursos:\n",
    "    + Gerencia todas as 'faces' que constituem um computador moderno (processadores, memória, disco, interfaces de rede, etc.);\n",
    "    "
   ]
  },
  {
   "cell_type": "markdown",
   "metadata": {},
   "source": [
    "### Motivações históricas para o desenvolvimento de SOs:"
   ]
  },
  {
   "cell_type": "markdown",
   "metadata": {},
   "source": [
    "+ 1º Fase - Hardware muito mais caro do que mão de obra especializada;\n",
    "    + O objetivo era maximizar a taxa de utilização do hardware;\n",
    "    + Não valia a pena investir, num primeiro momento, em uma interface mais amigável;\n",
    "+ 2º Fase - Hardware mais barato e mais acessível;\n",
    "    + Objetivo - Tornar o computador mais fácil para ser usado para pessoas sem muito conhecimento técnico;"
   ]
  },
  {
   "cell_type": "markdown",
   "metadata": {},
   "source": [
    "### Evolução dos SOs, com base no hardware:"
   ]
  },
  {
   "cell_type": "markdown",
   "metadata": {},
   "source": [
    "+ Computadores a válvulas $\\to$ Sem SO;\n",
    "+ Computadores a transistores $\\to$ Sistemas operacionais em lote (batch), um lote de leitura, de cálculo e de impressão, um para cada tarefa;\n",
    "+ Computadores com Circuitos Integrados $\\to$ SOs multiprogramado - múltiplos programas rodando ao mesmo tempo. SO de tempo compartilhado;\n",
    "+ Computadores pessoais $\\to$ SOs gráficos, SOs em redes, SOs distribuídos (rodando em várias máquinas) e SOs multiprocessados;"
   ]
  },
  {
   "cell_type": "markdown",
   "metadata": {},
   "source": [
    "### Componentes centrais de um SO:"
   ]
  },
  {
   "cell_type": "markdown",
   "metadata": {},
   "source": [
    "+ **Escalonador de processo** - Determina quando e por quanto tempo um processo é executado em um processador. \n",
    "+ **Gerenciador de memória** - Determina quando e como a memória é alocada aos processos e que fazer quando a memória enche. \n",
    "+ **Gerenciador de E/S** - É responśavel por atender as solicitações de entrada e saída de e para o hardware;\n",
    "+ **Gerenciador de Comunicação Interprocesso (IPC)** - Permite que os processos comuniquem-se uns com os outros. \n",
    "+ **Gerenciador de sistemas de arquivos** - Organiza coleções nomeadas de dados em dispositivos de armazenamento e fornece uma interface para acessar os dados;"
   ]
  },
  {
   "cell_type": "markdown",
   "metadata": {},
   "source": [
    "### Modos de Execução em um SO:"
   ]
  },
  {
   "cell_type": "markdown",
   "metadata": {},
   "source": [
    "+ **Modo Supervisor/Privilegiado/Kernel** - Permite qualquer instrução; \n",
    "+ **Modo Usuário** - Permite apenas que um conjunto limitado de instruções sejam executadas;"
   ]
  },
  {
   "cell_type": "markdown",
   "metadata": {},
   "source": [
    "### Arquiteturas de SO:"
   ]
  },
  {
   "cell_type": "markdown",
   "metadata": {},
   "source": [
    "+ **Monolítica** - Cada componente do SO está no Kernel e pode se comunicar diretamente com outras;\n",
    "+ **Em Camadas** - Agrupa em camadas componentes que realizam tarefas semelhantes;\n",
    "+ **MicroKernel** - Fornece um pequeno número de serviçoes e o resto são módulos que se comunicam com ele;\n",
    "+ **Cliente/Servidor** - Diferentes computadores trabalhando em conjunto via rede;\n"
   ]
  },
  {
   "cell_type": "markdown",
   "metadata": {},
   "source": [
    "## SHELL:"
   ]
  },
  {
   "cell_type": "markdown",
   "metadata": {},
   "source": [
    "Shell ou interpretadores de comandos. Interagi com o sistema operacional."
   ]
  },
  {
   "cell_type": "raw",
   "metadata": {},
   "source": [
    "Navegador       Editor de Texto        Jogos\n",
    "\n",
    "                 SHELL\n",
    "\n",
    "           Sistema Operacional\n",
    "                Hardware"
   ]
  },
  {
   "cell_type": "markdown",
   "metadata": {},
   "source": [
    "**CLI** - Interface de linha de comando. \n",
    "**Shell** - O interpretdor de comandos para um SO. (Exemplo - para o linux). É um programa de computador especial que permite que execute comandos específicos. Alguns tipos de shell:\n",
    "+ sh - Bourne Shell;\n",
    "+ csh - C Shell;\n",
    "+ ksh - Kern Shell;\n",
    "+ tcsh - TENEX C Shell;\n",
    "+ zsh - Z Shell;\n",
    "+ bash - Bourne Again Shell;\n"
   ]
  },
  {
   "cell_type": "markdown",
   "metadata": {},
   "source": [
    "Vamos focar nossos estudos no **bash**:\n",
    "+ Interativo;\n",
    "+ Mais-interativo (scripts);"
   ]
  },
  {
   "cell_type": "markdown",
   "metadata": {},
   "source": [
    "### Funcionamento Baśico do Shell:\n"
   ]
  },
  {
   "cell_type": "markdown",
   "metadata": {},
   "source": [
    "1) Aguarda a entrada de uma ou mais linhas de comando;\n",
    "2) Interpreta uma linha por vez;\n",
    "3) Cria processos para executar os comandos;\n",
    "4) Espera os processos terminarem;\n",
    "5) Disponibiliza o resultado da execução;\n",
    "6) Volta ao passo inicial;"
   ]
  },
  {
   "cell_type": "raw",
   "metadata": {},
   "source": [
    "Exemplos de comandos:\n",
    "ls -alFh\n",
    "cd pasta\n",
    "pwd        - Imprime o caminho de onde você está;\n",
    "cd ~       - Voltar para o home;\n",
    "mkdir novapasta\n",
    "rmdir novapasta\n",
    "cp arquivos novonome ~/pasta \n",
    "mv arquivo ../\n",
    "mv arquivo.pdf novonome.pdf\n",
    "mkdir -p /pasta1/pasta2/pasta3/pasta4/\n",
    "rm arquivo\n",
    "cat \n",
    "tac\n",
    "find . -name teste.txt   >>> . é o lugar onde você quer buscar;\n",
    "sort    >>> Ordenar;\n",
    "man comando\n"
   ]
  }
 ],
 "metadata": {
  "kernelspec": {
   "display_name": "Python 3",
   "language": "python",
   "name": "python3"
  },
  "language_info": {
   "codemirror_mode": {
    "name": "ipython",
    "version": 3
   },
   "file_extension": ".py",
   "mimetype": "text/x-python",
   "name": "python",
   "nbconvert_exporter": "python",
   "pygments_lexer": "ipython3",
   "version": "3.10.12"
  },
  "orig_nbformat": 4
 },
 "nbformat": 4,
 "nbformat_minor": 2
}
