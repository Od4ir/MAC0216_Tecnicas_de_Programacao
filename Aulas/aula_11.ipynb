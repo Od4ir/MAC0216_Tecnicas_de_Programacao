{
 "cells": [
  {
   "cell_type": "markdown",
   "metadata": {},
   "source": [
    "# Aula 10/30 - 23/10/2023\n"
   ]
  },
  {
   "cell_type": "markdown",
   "metadata": {},
   "source": [
    "### Tópicos de Aula:\n",
    "+ Revisão da última aula;"
   ]
  },
  {
   "cell_type": "markdown",
   "metadata": {},
   "source": [
    "## Bash Script"
   ]
  },
  {
   "cell_type": "markdown",
   "metadata": {},
   "source": [
    "+ Shell scripts são arquivos que contém comandos do shell. \n",
    "+ Para que os scripts funcionem é imporntate terem permissão de execução."
   ]
  },
  {
   "cell_type": "raw",
   "metadata": {},
   "source": [
    "chmod +x script.sh\n",
    "\n",
    "// A extensão não é obrigatória, mas é recomendada. "
   ]
  },
  {
   "cell_type": "markdown",
   "metadata": {},
   "source": [
    "+ Tem que começar com uma sequência específica de caracteres que é #!/bin/bash"
   ]
  },
  {
   "cell_type": "markdown",
   "metadata": {},
   "source": [
    "### Impressão:"
   ]
  },
  {
   "cell_type": "raw",
   "metadata": {},
   "source": [
    "echo \"Alguma mensagem para ser impressa na tela\""
   ]
  },
  {
   "cell_type": "markdown",
   "metadata": {},
   "source": [
    "### Variáveis:\n",
    "\n",
    "Define-se com igual e referencia usando o $ na frente (não tem tipo)"
   ]
  },
  {
   "cell_type": "raw",
   "metadata": {},
   "source": [
    "#!/bin/bash\n",
    "\n",
    "mensagem=\"Oi Od4ir\"\n",
    "\n",
    "echo ${mensagem}\n",
    "exit 0"
   ]
  },
  {
   "cell_type": "markdown",
   "metadata": {},
   "source": [
    "### Comandos Compostos\n",
    "\n",
    "+ São construtores de programação em bash;\n",
    "+ Começam com uma palavra reservada ou um operador de controle e terminam com outra palavra reservada ou operador de controle. \n",
    "+ Qualquer redirecionamento (>, >>) em um comando composto vale para todos comandos internos. \n",
    "+ Categorias: comandos de laço, comandos condicionais e mecanismos de agrupamento. "
   ]
  },
  {
   "cell_type": "raw",
   "metadata": {},
   "source": [
    "while [ 1 ]; do # Isso aqui cria um loop infinito. \n",
    "    date\n",
    "    sleep 1\n",
    "done\n",
    "exit 0"
   ]
  },
  {
   "cell_type": "raw",
   "metadata": {},
   "source": []
  }
 ],
 "metadata": {
  "language_info": {
   "name": "python"
  }
 },
 "nbformat": 4,
 "nbformat_minor": 2
}
