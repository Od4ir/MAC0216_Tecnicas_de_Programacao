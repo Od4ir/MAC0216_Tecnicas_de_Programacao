{
 "cells": [
  {
   "cell_type": "markdown",
   "metadata": {},
   "source": [
    "# Aula 5/30 - 21/08/2023"
   ]
  },
  {
   "cell_type": "markdown",
   "metadata": {},
   "source": [
    "### Tópicos da Aula:\n",
    "+ Depuração;\n",
    "+ Variáveis e Constantes;\n"
   ]
  },
  {
   "cell_type": "markdown",
   "metadata": {},
   "source": [
    "## Depuração:\n"
   ]
  },
  {
   "cell_type": "markdown",
   "metadata": {},
   "source": [
    "+ Para depurar, antes de gerar o c´dogio objeto ou código executável é importante informar ao compilador (gdb) que o código será depurado no futuro, incluindo o parâmetro '-g' na hora de compilar com o **nasm** e não incluindo o parâmetro '-s' na hora do **ld**.\n",
    "+ Para carregar o programa com o **gdb**:\n",
    "    + gdb arquivo.o OU o executável;"
   ]
  },
  {
   "cell_type": "markdown",
   "metadata": {},
   "source": [
    "Veja abaixo alguns parâmetros para a compilação:"
   ]
  },
  {
   "cell_type": "markdown",
   "metadata": {},
   "source": [
    "+ run # Executa o programa até o final;\n",
    "+ list # mostra o código fonte;\n",
    "+ break rotulo # Introduz uma quebra na linha com rótulo 'rotulo';\n",
    "+ continue # Continua até o próximo break point ou até o final;\n",
    "+ delete # Apaga todos os breaks points;\n",
    "+ quit # Para sair do gdb;\n",
    "+ info registers # Mostra os valores dos registradores, de todos, se não ouvir especificação;\n",
    "+ print (int) numero # Imprime o valor inteiro da variável 'numero';\n",
    "+ print (char[14]) frase # Imprime a string de 14 caracteres da variável 'frase' supondo que seja uma string;\n",
    "+ layout src # Para exibir o código fonte e ao mesmo tempo enviar comandos;\n"
   ]
  },
  {
   "cell_type": "markdown",
   "metadata": {},
   "source": [
    "## Variáveis e Constantes:\n"
   ]
  },
  {
   "cell_type": "markdown",
   "metadata": {},
   "source": [
    "## Declaração de Variáveis:\n",
    "+ Variável é um nome simbólico para algum valor atualizável do programa. \n",
    "+ Cada variável está associada a um endereço de memória. \n",
    "+ Quem atribui esse endereço é o **montador**. \n",
    "+ Cada variável tem um tamanho informado pelo programador. \n"
   ]
  },
  {
   "cell_type": "markdown",
   "metadata": {},
   "source": [
    "### Declaração de variáveis inicializadas:\n",
    "+ db - byte (1 byte)\n",
    "+ dw - word (2 bytes)\n",
    "+ dd - doubleword (4 bytes)\n",
    "+ dq - quadword (8 bytes)\n",
    "+ dt - ten bytes (10 bytes)\n",
    "\n",
    "Veja os exemplos a seguir:"
   ]
  },
  {
   "cell_type": "raw",
   "metadata": {},
   "source": [
    "NOME          | TIPO |  VALOR INICIAL\n",
    "section. data\n",
    "\n",
    "contador:       db      64\n",
    "quantidade:     db      0x150 (Valor ilegal pois Ox150 > 1 byte)\n",
    "quantidade:     dw      0x150\n",
    "quantidade:     dw      0x1234 (quantidade aponta para o valor 0x34) (quantidade + 1 aponta para 0x12)\n",
    "\n",
    "vetor:          db      0x10, 0x20, 0x30   (vetor de 3 bytes)\n",
    "\n",
    "letras:         db      'abc' (vetor - string - de 3 caracteres ASCII)\n",
    "mensagem:       db      'olah!', 0x0a (vetor - string - com ENTER no fim)\n",
    "\n"
   ]
  },
  {
   "cell_type": "markdown",
   "metadata": {},
   "source": [
    "### Declaração de Variáveis não inicializadas:"
   ]
  },
  {
   "cell_type": "markdown",
   "metadata": {},
   "source": [
    "+ resb - byte (1 byte)\n",
    "+ resw - word (2 bytes)\n",
    "+ resd - doubleword (4 bytes)\n",
    "+ resq - quadword (8 bytes)\n",
    "+ rest - ten bytes (10 bytes)\n",
    "\n",
    "Veja os exemplos abaixo:\n"
   ]
  },
  {
   "cell_type": "raw",
   "metadata": {},
   "source": [
    "NOME          | TIPO |  VALOR INICIAL\n",
    "section .bss\n",
    "\n",
    "buffer:         resb    64 (reserva 64 x 1 bytes)\n",
    "numero:         resw    1 (reserva 1 x 2 bytes)\n",
    "vetor           resq    10 (reserva 10 x 8 bytes)"
   ]
  },
  {
   "cell_type": "markdown",
   "metadata": {},
   "source": [
    "### Acessando as variáveis:\n"
   ]
  },
  {
   "cell_type": "raw",
   "metadata": {},
   "source": [
    "section .text\n",
    "\n",
    "mov eax, var1     ; Copia o endereço de memória de var1 em eax;\n",
    "mov eax, [var1]   ; Copia o valor de var1 em eax, isto é, 0xf17;\n",
    "\n",
    "section .data\n",
    "var1:  dw  0xf17"
   ]
  },
  {
   "cell_type": "markdown",
   "metadata": {},
   "source": [
    "## Declaração de Constantes:"
   ]
  },
  {
   "cell_type": "markdown",
   "metadata": {},
   "source": [
    "Em linguagem de montagem: constante = nome simbólico para um valor constante. Fazemos essas declarações da seção '.data' utilizando o operador **equ**. "
   ]
  },
  {
   "cell_type": "raw",
   "metadata": {},
   "source": [
    "NOME          | EQU |  VALOR INICIAL\n",
    "section .data\n",
    "\n",
    "ENTER:          equ     0x0a\n",
    "LINHA:          equ     'Digite seu nome'\n",
    "stdin:          equ     0\n",
    "stdout:         equ     1\n",
    "stderr:         equ     2\n",
    "\n",
    "mensagem:       db      linha, ENTER (Tipo um vetor)"
   ]
  }
 ],
 "metadata": {
  "language_info": {
   "name": "python"
  },
  "orig_nbformat": 4
 },
 "nbformat": 4,
 "nbformat_minor": 2
}
