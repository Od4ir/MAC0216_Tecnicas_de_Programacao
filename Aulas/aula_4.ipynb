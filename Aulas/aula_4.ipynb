{
 "cells": [
  {
   "cell_type": "markdown",
   "metadata": {},
   "source": [
    "# Aula 4/30 - 16/08/2023\n",
    "### Tópicos da Aula:\n",
    "+ Syscalls e mais instruções;\n",
    "+ Depuração;\n",
    "+ Variáveis e constantes;\n",
    "+ Leitura de arquivo;"
   ]
  },
  {
   "cell_type": "markdown",
   "metadata": {},
   "source": [
    "## Syscalls e mais instruções:"
   ]
  },
  {
   "cell_type": "markdown",
   "metadata": {},
   "source": [
    "**Syscalls ou chamadas de sistema**: São os meios pelos quais os programass solicitam serviços ao sistema operacional (SO). Como fazer syscalls em Assembly: (Isso depende da arquitetura sendo utilizada)\n",
    "+ X86:\n",
    "    + Colocar o número da chamada em EAX (MOV EAX, número);\n",
    "    + Colocar os argumentos nos registradores EBX, ECX, EDX, ESI, EDI, EBP;\n",
    "        + Por exemplo: a posição da memória em que está o conteúdo que desejamos escrever e o tamanho;\n",
    "            + MOV EBX, variavel;\n",
    "            + MOV ECX, tamanho;\n",
    "    + Gerar uma interrupção de syscall (Instrução INT OX80);\n",
    "    + Se tiver retorno, o retorno é colocado em EAX;\n",
    "\n",
    "Como saber quais syscall existem?\n",
    "+ 'man syscalls';\n",
    "Como saber os números das syscalls?\n",
    "+ X86 - /usr/include/x86_64-linux-gnu/arm/unistd_32.h\n",
    "+ X86_64 - less /usr/include/x86_64-linux-gnu/arm/unistd_64.h\n",
    "Como saber onde colocar os parâmetros e chamar syscalls?\n",
    "+ 'man syscall';"
   ]
  },
  {
   "cell_type": "markdown",
   "metadata": {},
   "source": [
    "## Como escrever algo na tela?"
   ]
  },
  {
   "cell_type": "markdown",
   "metadata": {},
   "source": [
    "+ 0 - stdin;\n",
    "+ 1 - stdout;\n",
    "+ 2 - stderr;"
   ]
  },
  {
   "cell_type": "raw",
   "metadata": {},
   "source": [
    "MOV RAX, 1           ; Chamada do Write;\n",
    "MOV RDI, 1           ; 1 é stdout(tela);\n",
    "MOV RSI, mensagem    ; O texto a ser impresso na tela;\n",
    "MOV RDX, tamanho     ; O tamanho da 'mensagem';\n",
    "syscall"
   ]
  },
  {
   "cell_type": "raw",
   "metadata": {},
   "source": [
    "global_start\n",
    "section .text\n",
    "_start\n",
    "\n",
    "; Preciso disso para o sistema saver onde o código começa,"
   ]
  },
  {
   "cell_type": "raw",
   "metadata": {},
   "source": [
    "section .data\n",
    "    mensagem: db 'Hello, world!', 0X0A    ; Mensagem + quebra de linha.\n",
    "    tamanho:  equ $ - mensagem            ; Para cálculo do tamanho;\n",
    "                                          ; EQU - Indica valor constante;"
   ]
  },
  {
   "cell_type": "markdown",
   "metadata": {},
   "source": [
    "Existe uma chamada de sistema chamada de **exit**:"
   ]
  },
  {
   "cell_type": "raw",
   "metadata": {},
   "source": [
    "MOV RAX, 60\n",
    "MOV RDI, 0\n",
    "syscall"
   ]
  },
  {
   "cell_type": "markdown",
   "metadata": {},
   "source": [
    "XCHG - 'Exchange' faz o 1º argumento receber o valor do segundo e o segundo valor o valor do 1º."
   ]
  },
  {
   "cell_type": "raw",
   "metadata": {},
   "source": [
    "XCHG reg, reg/mem \n",
    "XCHG mem, reg\n",
    "; Os argumentos precisam ter o mesmo tamanho."
   ]
  },
  {
   "cell_type": "markdown",
   "metadata": {},
   "source": [
    "SUB - Subtrai o valor do segundo operando do valor do primeiro operando e armazena o resultado no primeiro."
   ]
  },
  {
   "cell_type": "raw",
   "metadata": {},
   "source": [
    "SUB reg, reg/mem/const\n",
    "SUB BL, 10      ; BL = BL - 10"
   ]
  },
  {
   "cell_type": "markdown",
   "metadata": {},
   "source": [
    "MUL - Multiplicação, mas seguindo um funcionamento diferente."
   ]
  },
  {
   "cell_type": "raw",
   "metadata": {},
   "source": [
    "MUL reg/mem\n",
    "\n",
    "Multiplicando | Multiplicador | Produto (Resultado)\n",
    "8B              AL              AX\n",
    "16B             AX              DX:AX\n",
    "32B             EAX             EDX: EAX"
   ]
  },
  {
   "cell_type": "markdown",
   "metadata": {},
   "source": [
    "DIV - Dividindo."
   ]
  },
  {
   "cell_type": "raw",
   "metadata": {},
   "source": [
    "DIV reg/mem\n",
    "\n",
    "Divisor(operando)  | Dividendo  | Resto(Resultado) | Quociente(Resultado)\n",
    "8B                   AX           AH                 AL\n",
    "16B                  DX:AX        DX                 AX\n",
    "32B                  EDX:EAX      EDX                EAX"
   ]
  },
  {
   "cell_type": "markdown",
   "metadata": {},
   "source": [
    "JMP - Comando para salto incondicional: transfere a execução para o endereço especificado pelo rótulo."
   ]
  },
  {
   "cell_type": "raw",
   "metadata": {},
   "source": [
    "inicio: MOV AX, 5\n",
    "        ADD AX, AX\n",
    "        ...\n",
    "        JMP inicio"
   ]
  },
  {
   "cell_type": "markdown",
   "metadata": {},
   "source": [
    "Comandos para saltos condicionais:"
   ]
  },
  {
   "cell_type": "raw",
   "metadata": {},
   "source": [
    "JE   - Jump se for igual;\n",
    "JNE  - Pule se não for igual;\n",
    "JG   - Pule se for maior;\n",
    "JGE  - Pule se for maior ou igual;\n",
    "JNG  - Pule se não for maior;\n",
    "JNGE - Pule se naõ for maior nem igual;\n",
    "JZ   - Pule se for zero;\n",
    "JNZ  - Pule se não for zero;\n",
    "\n",
    "        CMP CX, 15\n",
    "        JNL  senao\n",
    "        ...           ;bloco1\n",
    "        JMP fimse\n",
    "senao   ...\n",
    "fimse   ..."
   ]
  }
 ],
 "metadata": {
  "language_info": {
   "name": "python"
  },
  "orig_nbformat": 4
 },
 "nbformat": 4,
 "nbformat_minor": 2
}
