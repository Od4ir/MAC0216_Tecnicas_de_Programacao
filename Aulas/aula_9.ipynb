{
 "cells": [
  {
   "cell_type": "markdown",
   "metadata": {},
   "source": [
    "# Aula 9/30 - 13/09/2023\n"
   ]
  },
  {
   "cell_type": "markdown",
   "metadata": {},
   "source": [
    "### Tópicos da Aula\n",
    "+ Funções;\n",
    "+ Assembly em C;\n",
    "+ Números negativos;\n",
    "+ Introdução aos SOs;\n",
    "+ Shells;"
   ]
  },
  {
   "cell_type": "markdown",
   "metadata": {},
   "source": [
    "## Funções:"
   ]
  },
  {
   "cell_type": "markdown",
   "metadata": {},
   "source": [
    "+ Funções são implementadas como sub-rotinas (usando CALL e RET).\n",
    "+ A passagem de parâmetros é feita via pilha;\n",
    "+ A pilha também é usada para armazenas as variáveis locais da função;\n",
    "+ O valro de retorno da função pode ser devolvido na pilha em RAX (ou derivados do RAX - EAX, AX, AH, AL);\n",
    "+ A função não deve bagunçar os resultados dos registradores;\n",
    "\n",
    "#### Responsabilidades do chamador:\n",
    "1) Empilhar parâmetros na ordem inversa do protótipo da função; (PUSH)\n",
    "2) Chamar a função com *call*; (CALL)\n",
    "3) Liberar espaço dos parâmetros; (ADD)\n",
    "\n",
    "#### Responsabilidades da função chamada:\n",
    "1) Salvar RBP (base da pilha) do chamador e definiu uma nova base; (PUSH)\n",
    "2) Salvar todos os registradores que vão ser modificados;(PUSH)\n",
    "3) Alocar espaço para variáveis locais;(SUB)\n",
    "4) Realizar o trabalho usando parâmetros e variáveis locais; (Vários)\n",
    "5) Definir valor de retorno (em espaço próprio ou em RAX, EAX, AX, AH, AL); (MOV)\n",
    "6) Deslocar o espaço de variáveis locais; (ADD)\n",
    "7) Restaurar registradores modificados; (POP)\n",
    "8) Restaurar RBP; (POP)\n",
    "9) Retomar; (RET)"
   ]
  },
  {
   "cell_type": "markdown",
   "metadata": {},
   "source": [
    "**Exemplo de Programa:**\n",
    "Implemente o chamado de uma função que possui o seguinte protótipo:\n",
    "\n",
    "**short int func (short int A, short int B, short int C)**\n",
    "\n",
    "Que tem como valor de sáida o resultado da expressão calculada abaixo:\n",
    "\n",
    "$$(A^2 + B^2)/C^2 $$\n",
    "\n",
    "Observações: short indica que cada variável ocupa 16 bits. Além disso, vamos considerar que as multiplicações cabem apenas em AX e que a divisão sempre deixa resto = 0;"
   ]
  },
  {
   "cell_type": "markdown",
   "metadata": {},
   "source": [
    "Na parte abaixo estamos salvando na pilha os valores que serão os parâmetros da função;"
   ]
  },
  {
   "cell_type": "raw",
   "metadata": {},
   "source": [
    "short int func(short int A, short int B, short int C)   // short -> 16 bits;\n",
    "\n",
    "; chama FUNC (10, 20, 5)\n",
    "\n",
    "; Responsabilidade 1 - Empilhar os parâmetros na ordem inversa:\n",
    "MOV AX, 5       ; Empilha C\n",
    "PUSH AX\n",
    "MOV AX, 20      ; Empilha B\n",
    "PUSH AX\n",
    "MOV AX, 10      ; Empilha A\n",
    "PUSH AX"
   ]
  },
  {
   "cell_type": "markdown",
   "metadata": {},
   "source": [
    "Na partes abaixo estamos chamando a função em como empilhei 3 valores de 2 bytes (16 bits) cada, retorno o apontador RSP (que armazena o endereço do topo da pilha) para sua posição a posição que estava antes da inserção. Como a pilha cresce 'para baixo', ao adicionarmos estamos voltando ao ponto em que estavámos. \n"
   ]
  },
  {
   "cell_type": "raw",
   "metadata": {},
   "source": [
    "; Responsabilidade 2 - Chamar a função:\n",
    "call func\n",
    "\n",
    "; Responsabilidade 3 - Liberar espaço dos parâmetros:\n",
    "ADD RSP, 6   \n",
    "\n",
    "; Devolve o resultado que vem AX chamando o núcleo do Linux\n",
    "MOV RDI, RAX    ; Primeiro parâmetro: exit code.\n",
    "MOV RAX, 60     ; Número da chamada do sistema de saída;\n",
    "syscall         ; Executa a chamada;\n",
    "\n",
    "; O valor de retorno pode ser visto no bash com echo $?\n"
   ]
  },
  {
   "cell_type": "markdown",
   "metadata": {},
   "source": [
    "A seguir temos a função.\n",
    "Primeiramente vamos salvar uma nova base para a pilha que será igual ao topo da pilha alterado anteriormente. Além disso também vamos salvar essa antiga base e os valores dos registradores que vamos mexer. Além disso, vamos reservar mais espaços para as variáveis na pilha, descendo o RSP."
   ]
  },
  {
   "cell_type": "raw",
   "metadata": {},
   "source": [
    "func:\n",
    "\n",
    "; Responsabilidade 1 - Salvar RBP do chamador e definir a nova base;\n",
    "PUSH  RBP\n",
    "MOV   RBP, RSP     \n",
    "\n",
    "; Responsabilidade 2 - Salvar todos os registradores que vão ser afetados:\n",
    "PUSH  DX\n",
    "\n",
    "; Responsabilidade 3 - Alocar espaço para as variáveis locais;\n",
    "SUB   RSP, 6"
   ]
  },
  {
   "cell_type": "markdown",
   "metadata": {},
   "source": [
    "A próxima parte é a parte em que a função executa sua tarefa. Perceba que os valores são acessados pela pilha de acordo com a forma que foram salvos anteriormente. "
   ]
  },
  {
   "cell_type": "raw",
   "metadata": {},
   "source": [
    "; Responsabilidade 4 - Realizar trabalho usando argumentos e variávis locais:\n",
    "mov     ax, [rbp+A]        ; copia A em AX  \n",
    "mul     word [rbp+A]       ; A * A\n",
    "mov     [rbp+temp1], ax    ; armazena A*A como uma variável local\n",
    "mov     ax, [rbp+B]        ; copia B em AX\n",
    "mul     word [rbp+B]       ; B * B\n",
    "mov     [rbp+temp2], ax    ; armazena B*B localmente\n",
    "mov     ax, [rbp+C]        ; copia C em AX\n",
    "mul     word [rbp+C]       ; C * C\n",
    "mov     [rbp+temp3], ax    ; armazena C*C localmente\n",
    "mov     ax, [rbp+temp1]    ; obtem A*A\n",
    "add     ax, [rbp+temp2]    ; A*A + B*B"
   ]
  },
  {
   "cell_type": "markdown",
   "metadata": {},
   "source": [
    "A parte a seguir é a parte final dos ajustes antes de voltar a execução principal. Além da definição dos parâmetros para deslocamento da pilha."
   ]
  },
  {
   "cell_type": "raw",
   "metadata": {},
   "source": [
    "; RESPONSABILIDADE 5: setar valor de retorno (em espaço próprio ou em *AX)\n",
    "div     word [rbp+temp3]   ; divide por C*C (resposta em AX)\n",
    "\n",
    "; RESPONSABILIDADE 6: desalocar o espaço das variáveis locais\n",
    "add     rsp, 6\n",
    "\n",
    "; RESPONSABILIDADE 7: restaurar registradores afetados\n",
    "pop     dx\n",
    "\n",
    "; RESPONSABILIDADE 8: restaurar RBP\n",
    "pop     rbp\n",
    "\n",
    "; RESPONSABILIDADE 9: retornar\n",
    "ret\n",
    "\n",
    "section .data\n",
    "\n",
    "; Os parâmetros vem na pilha com os seguintes deslocamentos \n",
    "; em relacao a rbp\n",
    "A: equ \t+16\n",
    "B: equ \t+18\n",
    "C: equ\t+20\n",
    "\n",
    "; Deslocamentos das variáveis locais\n",
    "temp1:\tequ -4\n",
    "temp2:\tequ -6\n",
    "temp3:\tequ -8"
   ]
  },
  {
   "cell_type": "markdown",
   "metadata": {},
   "source": [
    "Em relação a pilha, é importante lembrar mais algumas coisas:\n",
    "+ Ela cresce de forma invertida, isso é, os elementos são inseridos na direção em que os 'índices' dos endereços diminuem;\n",
    "    + Então, **SUB RSP, ?** é equivalente a aumentar a pilha em ? espaços de memória;\n",
    "    + Já **ADD RSP, ?** é retroceder a pilha em ? posições de memória;\n",
    "+ Cada posição de memória tem 1 byte;\n",
    "    + Por isso, no exemplo acima em que estamos trabalhando com valores de 16 bits (2 bytes), movemos as coisas de 2 em 2;"
   ]
  },
  {
   "cell_type": "markdown",
   "metadata": {},
   "source": [
    "## Usando Assembly em C:"
   ]
  },
  {
   "cell_type": "markdown",
   "metadata": {},
   "source": [
    "### Utilidade e regras:\n",
    "+ É útil para usufruir das interfaces com usuário e Sistema Operacional e também do desempenho do Assembly (Escrevendo o Main em C e as funções mais pesadas em Assembly);\n",
    "+ Pode fazer uso de instruções poderosas e específicas de novos processadores;\n",
    "+ Regras para chamar funções (gcc, Linux, x86\\_64):\n",
    "    + Os parâmetros da função são passados por meio dos registradores RDI, RSI, RDX, RCX, R8 e R9 (nessa ordem). Se a função tiver mais parâmetros que 6 parâmetros, o restante é passado por meio da pilha;\n",
    "    + Parâmetros são passados na ordem da esquerda para a direita (o primeiro parâmetro fica em RDI, o segundo RSI, etc.)\n",
    "    + Os registradores mencionados em conjunto com os registradores RAX, R10 e R11 podem ser usados na implementação pois são bagunçados na chamada;\n",
    "    + Valores inteirosde retorno são passados em RAX (e RDX, se o valor estourar os 64 bits);\n",
    "    + Se os parâmetros e retornos forem menores que 64 bits, pode usar os registradores menores (por exemplo EDI e ESI ao ainvés de RDI e RSI como os primeiros parâmetros).\n",
    "    \n",
    "Veja um exemplo abaixo:\n"
   ]
  },
  {
   "cell_type": "raw",
   "metadata": {},
   "source": [
    "# MAIN EM C:\n",
    "\n",
    "#include <stdio.h>\n",
    "#include <stdblib.h>\n",
    "\n",
    "int soma (int, int):\n",
    "\n",
    "int main() {\n",
    "    int x, y;\n",
    "    x = 2;\n",
    "    y = 3;\n",
    "\n",
    "    printf(\"%d\\n\", soma(x, y));\n",
    "\n",
    "    exit(0);\n",
    "}"
   ]
  },
  {
   "cell_type": "raw",
   "metadata": {},
   "source": [
    "# FUNÇÃO EM ASSEMBLY:\n",
    "\n",
    ".intel_syntax noprefix\n",
    ".global soma\n",
    "\n",
    "# Obs.: no caso de usar assembly para ser chamado a partir de um .c,\n",
    "# os comentários precisam ser identificados com # e não com ;\n",
    "\n",
    "soma:\n",
    "    # RESPONSABILIDADE 1\n",
    "    push    rbp\n",
    "    mov     rbp,rsp       \n",
    "\n",
    "    # RESPONSABILIDADE 3\n",
    "    sub     rsp,4         # reserva espaco para o resultado da soma (inteiro = 32\n",
    "                            # bits, precisa de 4 endereços de memória)\n",
    "    # RESPONSABILIDADE 4\n",
    "    mov     [rbp-4],edi   # armazena o primeiro param. (int = 32 bits, edi)\n",
    "    add     [rbp-4],esi   # soma os dois parametros de entrada (int = 32 bits, esi)\n",
    "\n",
    "    # RESPONSABILIDADE 5\n",
    "    mov     eax,[rbp-4]   # armazena a soma em eax (para retorno da funcao) (int = 32 bits, eax)\n",
    "\n",
    "    # RESPONSABILIDADE 6\n",
    "    add     rsp,4         # libera espaco usado para guardar a soma\n",
    "    \n",
    "    # RESPONSABILIDADE 8\n",
    "    pop     rbp           # restaura a base da pilha\n",
    "\n",
    "    # RESPONSABILIDADE 9\n",
    "    ret"
   ]
  },
  {
   "cell_type": "markdown",
   "metadata": {},
   "source": [
    "Para criar o executável:\n",
    "+ **gcc -Wall m64 -o soma soma-main.c soma-funcao.s**;\n",
    "\n",
    "Observações:\n",
    "+ Para sintaxe Intel, incluir no .s a diretiva *intel_syntax noprefix*;\n",
    "+ Os comentŕios na sintaxe intel precisam ser iniciados \"#\";\n",
    "+ Em caso de erro relacionado a *missing .note.GNU-stack*, adicionar no gcc: *-z noexecstack*;\n",
    "    + Para entender isso melhor [clique aqui](https://h4ckthreat.medium.com/estouro-de-buffer-linux-gdb-ce4a897807c3);\n",
    "+ Pode ser necessário instalar no Linux o pacote *gcc-multilib*;\n"
   ]
  },
  {
   "cell_type": "markdown",
   "metadata": {},
   "source": [
    "## Números Negativos\n"
   ]
  },
  {
   "cell_type": "markdown",
   "metadata": {},
   "source": [
    "+ Representados na arquitetura X86_64 como números em complemento de 2;\n",
    "+ Para encontrar a representação binária do valor negativo, os passos são:\n",
    "    + Inverter os bits;\n",
    "    + Somar 1 ao resultador anterior;\n",
    "\n",
    "Instrução para trocar o sinal:\n",
    "\n"
   ]
  },
  {
   "cell_type": "raw",
   "metadata": {},
   "source": [
    "NEG  reg | mem  \n",
    "\n",
    "Equivale a:\n",
    "NOT  operando\n",
    "ADD  operando, 1"
   ]
  },
  {
   "cell_type": "markdown",
   "metadata": {},
   "source": [
    "Tal comando gera o complemento de 2 do operando e armazena no próprio operando. \n",
    "Saltos condicionais com valores sem sinal (unsigned): "
   ]
  },
  {
   "cell_type": "raw",
   "metadata": {},
   "source": [
    "JA    -> Jump if above;\n",
    "JAE   -> Jump if above or equal;\n",
    "JNA   -> Jump if not above;\n",
    "JNAE  -> Jump if not above or equal;\n",
    "JB    -> Jump if below;\n",
    "JBE   -> Jump if below or equal;\n",
    "JBA   -> Jump if not below;\n",
    "JNBE  -> Jump if not below or equal;"
   ]
  },
  {
   "cell_type": "markdown",
   "metadata": {},
   "source": [
    "Para operações que envolvem números com sinal temos os comandos a seguir:"
   ]
  },
  {
   "cell_type": "raw",
   "metadata": {},
   "source": [
    "IMUL   reg | mem\n",
    "IDIV   reg | mem"
   ]
  }
 ],
 "metadata": {
  "language_info": {
   "name": "python"
  },
  "orig_nbformat": 4
 },
 "nbformat": 4,
 "nbformat_minor": 2
}
