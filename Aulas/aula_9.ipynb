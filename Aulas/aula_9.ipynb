{
 "cells": [
  {
   "cell_type": "markdown",
   "metadata": {},
   "source": [
    "# Aula 9/30 - 13/09/2023\n"
   ]
  },
  {
   "cell_type": "markdown",
   "metadata": {},
   "source": [
    "### Tópicos da Aula\n",
    "+ Funções;\n",
    "+ Assembly em C;\n",
    "+ Números negativos;\n",
    "+ Introdução aos SOs;\n",
    "+ Shells;"
   ]
  },
  {
   "cell_type": "markdown",
   "metadata": {},
   "source": [
    "## Funções:\n",
    "#### Responsabilidades do chamador:\n",
    "1) Empilhar parâmetros na ordem inversa do protótipo da função; (PUSH)\n",
    "2) Chamar a função com *call*; (CALL)\n",
    "3) Liberar espaço dos parâmetros; (ADD)\n",
    "\n",
    "#### Responsabilidades da função chamada:\n",
    "1) Salvar RBP (base da pilha) do chamador e definiu uma nova base; (PUSH)\n",
    "2) Salvar todos os registradores que vão ser modificados;(PUSH)\n",
    "3) Alocar espaço para variáveis locais;(SUB)\n",
    "4) Realizar o trabalho usando parâmetros e variáveis locais; (Vários)\n",
    "5) Definir valor de retorno (em espaço próprio ou em RAX, EAX, AX, AH, AL); (MOV)\n",
    "6) Deslocar o espaço de variáveis locais; (ADD)\n",
    "7) Restaurar registradores modificados; (POP)\n",
    "8) Restaurar RBP; (POP)\n",
    "9) Retomar; (RET)"
   ]
  },
  {
   "cell_type": "markdown",
   "metadata": {},
   "source": [
    "**Exemplo de Programa:**\n",
    "Implemente o chamado de uma função que possui o seguinte protótipo:"
   ]
  },
  {
   "cell_type": "raw",
   "metadata": {},
   "source": [
    "short int func(short int A, short int B, short int C)   // short -> 16 bits;\n",
    "\n",
    "; chama FUNC (10, 20, 5)\n",
    "\n",
    "; Responsabilidade 1 - Empilhar os parâmetros na ordem inversa:\n",
    "MOV AX, 5       ; Empilha C\n",
    "PUSH AX\n",
    "MOV AX, 20      ; Empilha B\n",
    "PUSH AX\n",
    "MOV AX, 10      ; Empilha A\n",
    "PUSH AX\n",
    "\n",
    "; Responsabilidade 2 - Chamar a função:\n",
    "call \n",
    "\n",
    "; Responsabilidade 3 - Liberar espaço dos parâmetros:\n",
    "; Como empilhei 3 valores de 2 bytes cada, retorno esse apontador para sua posição da chamada da função:\n",
    "ADD RSP, 6   \n",
    "\n",
    "FUNC\n"
   ]
  }
 ],
 "metadata": {
  "language_info": {
   "name": "python"
  },
  "orig_nbformat": 4
 },
 "nbformat": 4,
 "nbformat_minor": 2
}
