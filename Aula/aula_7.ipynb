{
 "cells": [
  {
   "cell_type": "markdown",
   "metadata": {},
   "source": [
    "# Aula 7/30 - 28/08/2023\n"
   ]
  },
  {
   "cell_type": "markdown",
   "metadata": {},
   "source": [
    "### Tópicos de Aula:\n",
    "+ Mais sobre leitura de arquivos;\n",
    "+ Instruções lógicas;\n",
    "+ Pilha;\n",
    "+ Sub-rotinas;\n",
    "+ Questão 3;"
   ]
  },
  {
   "cell_type": "markdown",
   "metadata": {},
   "source": [
    "## Mais sobre leitura de arquivos:"
   ]
  },
  {
   "cell_type": "markdown",
   "metadata": {},
   "source": [
    "Ler o arquivo até o final é recorrente após a chamada da syscall *read*. "
   ]
  },
  {
   "cell_type": "raw",
   "metadata": {},
   "source": [
    ";while( cont < (tam_entrada) faça < bloco de comandos > fim;\n",
    "\n",
    "        DEC RAX\n",
    "        MOV RCX, O\n",
    "inicio: CMP RCX, RAX\n",
    "        JGE fim\n",
    "        (...) - Bloco de comandos;\n",
    "        ; [ entrada + RCX ]\n",
    "        INC RCX\n",
    "        JMP inicio\n",
    "fim:"
   ]
  },
  {
   "cell_type": "markdown",
   "metadata": {},
   "source": [
    "## Instruções Lógicas:"
   ]
  },
  {
   "cell_type": "markdown",
   "metadata": {},
   "source": [
    "+ AND $\\to$ AND reg, reg|mem|const ou AND mem, reg|const\n",
    "+ OR $\\to$ OR reg, reg|mem|const ou OR mem, reg|const\n",
    "+ XOR $\\to$ XOR reg, reg|mem|const ou XOR mem, reg|const\n",
    "+ NOT $\\to$ NOT reg|mem"
   ]
  },
  {
   "cell_type": "markdown",
   "metadata": {},
   "source": [
    "As operações realizadas são as mesmas que os nomes representam. O resultado das operações é salvo na memória ou no registrador que fica à esquerda. Veja os exemplos:"
   ]
  },
  {
   "cell_type": "raw",
   "metadata": {},
   "source": [
    "AND AX, BX    ; Fica salvo em AX.\n",
    "OR CX, 0x5f   ; Fica salvo em CX.\n",
    "NOT AX        ; Inverte o valor de AX."
   ]
  },
  {
   "cell_type": "markdown",
   "metadata": {},
   "source": [
    "Imagine que você realizou uma divisão que deixou o resto no AH (8 bits) e o quociente no AL(8 bits) e quer realizar uma operação posterior apenas com o resto, que necessita de 16 bits (AX). Nesse caso, queremos mover os 8 bits da esquerda para a direita, onde está o quociente. \n",
    "\n",
    "Operações como essa já tem comandos:\n",
    "+ SHR $\\to$ shift para a direita - SHR reg, mem|const\n",
    "+ SHL $\\to$ shift para a esqueda - SHR reg, mem|const"
   ]
  },
  {
   "cell_type": "raw",
   "metadata": {},
   "source": [
    "SHR AX, 8      ; Faz o conteúdo de AH ficar em AL e zera AH\n",
    "SHL AX, 8      ; Faz o conteúdo de AL ficar em AH e zera AL"
   ]
  },
  {
   "cell_type": "markdown",
   "metadata": {},
   "source": [
    "### Para que usar as instruções lógicas?\n",
    "\n",
    "+ Podem ser usadas para zerar registradores (XOR regist, regist);\n",
    "+ Setar bits;\n",
    "+ Inverter bits;\n",
    "+ Examinar bits;\n",
    "\n",
    "Para exemplificar:"
   ]
  },
  {
   "cell_type": "raw",
   "metadata": {},
   "source": [
    "# Setar um bit - Exemplo: setar o 3º bit menos significativo de AH:\n",
    "OR   AH, 00000100B\n",
    "\n",
    "# Resetar (zerar) um bit - Exemplo: resetar o 3º bit menos significativo de AH:\n",
    "AND  AH, 11111011B\n",
    "\n",
    "* 0x1000 = 0001000000000000B\n",
    "\n",
    "# Inverter bits específicos - Exemplo: inverter o 4º bit mais significativo de AX:\n",
    "XOR  AX, 0x1000 \n",
    "\n",
    "# Examinar bits específicos - Exemplo: Determinar o valor do 4º bit mais significativo de AX:\n",
    "AND  AX, 0x1000\n",
    "    -> Se o resultado for 0, o bit desejado vale 0. Se não, vale 1;\n",
    "\n"
   ]
  },
  {
   "cell_type": "markdown",
   "metadata": {},
   "source": [
    "## Mais dicas de depuração:\n",
    "\n"
   ]
  },
  {
   "cell_type": "raw",
   "metadata": {},
   "source": [
    "print $ax           ; Saída do valor em inteiro;\n",
    "\n",
    "print /x $ax        ; Sáida do valor em hexadecimal;\n",
    "\n",
    "print /t $ax        ; Saída do valor em binário;\n",
    "\n",
    "print /t numero     ; Saída do valor da variável em binário;"
   ]
  },
  {
   "cell_type": "markdown",
   "metadata": {},
   "source": [
    "Para vetores:"
   ]
  },
  {
   "cell_type": "raw",
   "metadata": {},
   "source": [
    "print (char[n]) variavel:\n",
    "    Printa n valores do vetor como char;\n",
    "\n",
    "x/nc &variavel\n",
    "    Printa n valores do vetor como char;\n",
    "\n",
    "x/nd &variavel\n",
    "    Printa n valores do vetor como inteiro;\n",
    "\n",
    "x/nu &variavel\n",
    "    Printa n valores do vetor como inteiro sem sinal;\n",
    "\n",
    "x/nt &variavel\n",
    "    Printa n valores do vetor como binário;\n",
    "\n",
    "x/s &variavel\n",
    "    Printa o vetor inteiro como uma string;"
   ]
  },
  {
   "cell_type": "markdown",
   "metadata": {},
   "source": [
    "## Pilha"
   ]
  },
  {
   "cell_type": "markdown",
   "metadata": {},
   "source": [
    "+ Uma porção de memória que é compartilhada com o sistema operacional. Com uma política LIFO - Last In First Out;\n",
    "+ É usada para:\n",
    "    + Comunicação entre programas e subprogramas;\n",
    "    + Armazenamento temporário;\n",
    "    + Chamadas do sistema operarional;\n",
    "+ RBP - Registrador Base Pointer - Armazena o endereço da base da pilha;\n",
    "+ RSP - Registrador Stack Pointer - Armazena o endereço do topo da pilha;\n",
    "\n",
    "Para manipular a minha usamos algumas instruções, explicadas a seguir:"
   ]
  },
  {
   "cell_type": "raw",
   "metadata": {},
   "source": [
    "; PUSH reg|mem|const\n",
    ";   Armezena o valor do operando no topo da pilha. O número de bits salvo é determinado pelo tamanho do operando;\n",
    "\n",
    "PUSH EAX\n",
    "; Ou:\n",
    "SUB  RSP, 4\n",
    "MOV  [RSP], EAX"
   ]
  },
  {
   "cell_type": "raw",
   "metadata": {},
   "source": [
    "; POP reg|mem\n",
    ";   Remove o valor do topo da pilha e armazena no operando. O número de bits que serão retirados da pilha é definido pelo tamanho do operando;\n",
    "\n",
    "POP  BX\n",
    "; Ou:\n",
    "MOV BX, [ESP]\n",
    "ADD ESP, 2"
   ]
  },
  {
   "cell_type": "markdown",
   "metadata": {},
   "source": [
    "PUSHA \n",
    "; Empilha o valor de todos os registradores de uso geral;\n",
    "; Na seguinte ordem: EAX, ECX, EDX, EBX, ESP, EBP, ESI e EDI;\n",
    "\n",
    "POPA\n",
    "; Desempilha o valor de todos os registradores em ordem inversa a ordem do PUSHA;"
   ]
  },
  {
   "cell_type": "markdown",
   "metadata": {},
   "source": [
    "PUSHF\n",
    "; Dá um PUSH em todas as flags;\n",
    "\n",
    "POPF\n",
    "; Dá um POP em todas as flags;"
   ]
  },
  {
   "cell_type": "markdown",
   "metadata": {},
   "source": [
    "## Sub-Rotinas:"
   ]
  },
  {
   "cell_type": "markdown",
   "metadata": {},
   "source": [
    "São usadas para implementar tarefas complexas usando componentes mais simples. Quase como funções. Melhoram a legibilidade do código e facilitam a manutenção. \n",
    "\n",
    "Podem ser chamadas. Envolvem geralmente o uso das instruções CALL e RET.Veja um exemplo abaixo:"
   ]
  },
  {
   "cell_type": "raw",
   "metadata": {},
   "source": [
    "; calcula a paridade de um valor (o valor está no section .data\n",
    "; na variável numero) e retorna a paridade como sendo o retorno\n",
    "; do programa (vai poder ser visto rodando echo $? no shell\n",
    "; após o programa concluir)\n",
    "\n",
    "global _start\n",
    "\n",
    "section .text\n",
    "paridade:\n",
    "          mov   bl, 2\n",
    "          div   bl\n",
    "          ret                  ; retorna o controle para quem chamou\n",
    "\n",
    "_start:\n",
    "          mov   ax, numero     ; definindo o parâmetro da função \n",
    "          call  paridade       ; chama a função\n",
    "\n",
    "          shr   ax, 8          ; instrução para deslocar os bits\n",
    "                               ; do registrador 8 bits para a\n",
    "                               ; direita. Assim, o ah (que é o\n",
    "                               ; resto da divisão) vai\n",
    "                               ; sobrescrever o valor de al e o\n",
    "                               ; rax vai ser o valor que\n",
    "                               ; queremos\n",
    "\n",
    "          mov   rdi, rax\n",
    "          mov   rax, 60\n",
    "          syscall\n",
    "          ; o resto da divisão vai estar em echo $? no shell\n",
    "\n",
    "section .data\n",
    "numero: equ 13"
   ]
  }
 ],
 "metadata": {
  "language_info": {
   "name": "python"
  },
  "orig_nbformat": 4
 },
 "nbformat": 4,
 "nbformat_minor": 2
}
