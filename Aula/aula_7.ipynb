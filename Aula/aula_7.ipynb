{
 "cells": [
  {
   "cell_type": "markdown",
   "metadata": {},
   "source": [
    "# Aula 7/30 - 28/08/2023\n"
   ]
  },
  {
   "cell_type": "markdown",
   "metadata": {},
   "source": [
    "### Tópicos de Aula:\n",
    "+ Mais sobre leitura de arquivos;\n",
    "+ Instruções lógicas;\n",
    "+ Pilha;\n",
    "+ Sub-rotinas;\n",
    "+ Questão 3;"
   ]
  },
  {
   "cell_type": "markdown",
   "metadata": {},
   "source": [
    "## Mais sobre leitura de arquivos:"
   ]
  },
  {
   "cell_type": "markdown",
   "metadata": {},
   "source": [
    "Ler o arquivo até o final é recorrente após a chamada da syscall *read*. "
   ]
  },
  {
   "cell_type": "raw",
   "metadata": {},
   "source": [
    ";while( cont < (tam_entrada) faça < bloco de comandos > fim;\n",
    "\n",
    "        DEC RAX\n",
    "        MOV RCX, O\n",
    "inicio: CMP RCX, RAX\n",
    "        JGE fim\n",
    "        (...) - Bloco de comandos;\n",
    "        ; [ entrada + RCX ]\n",
    "        INC RCX\n",
    "        JMP inicio\n",
    "fim:"
   ]
  },
  {
   "cell_type": "markdown",
   "metadata": {},
   "source": [
    "## Instruções Lógicas:"
   ]
  },
  {
   "cell_type": "markdown",
   "metadata": {},
   "source": [
    "+ AND $\\to$ AND reg, reg|mem|const ou AND mem, reg|const\n",
    "+ OR $\\to$ OR reg, reg|mem|const ou OR mem, reg|const\n",
    "+ XOR $\\to$ XOR reg, reg|mem|const ou XOR mem, reg|const\n",
    "+ NOT $\\to$ NOT reg|mem"
   ]
  },
  {
   "cell_type": "markdown",
   "metadata": {},
   "source": [
    "As operações realizadas são as mesmas que os nomes representam. O resultado das operações é salvo na memória ou no registrador que fica à esquerda. Veja os exemplos:"
   ]
  },
  {
   "cell_type": "raw",
   "metadata": {},
   "source": [
    "AND AX, BX    ; Fica salvo em AX.\n",
    "OR CX, 0x5f   ; Fica salvo em CX.\n",
    "NOT AX        ; Inverte o valor de AX.\n",
    "\n",
    "\n"
   ]
  },
  {
   "cell_type": "markdown",
   "metadata": {},
   "source": [
    "Imagine que você realizou uma divisão que deixou o resto no AH (8 bits) e o quociente no AL(8 bits) e quer realizar uma operação posterior apenas com o resto, que necessita de 16 bits (AX). Nesse caso, queremos mover os 8 bits da esquerda para a direita, onde está o quociente. \n",
    "\n",
    "Operações como essa já tem comandos:\n",
    "+ SHR $\\to$ shift para a direita - SHR reg, mem|const\n",
    "+ SHL $\\to$ shift para a esqueda - SHR reg, mem|const"
   ]
  },
  {
   "cell_type": "raw",
   "metadata": {},
   "source": [
    "SHR"
   ]
  }
 ],
 "metadata": {
  "language_info": {
   "name": "python"
  },
  "orig_nbformat": 4
 },
 "nbformat": 4,
 "nbformat_minor": 2
}
