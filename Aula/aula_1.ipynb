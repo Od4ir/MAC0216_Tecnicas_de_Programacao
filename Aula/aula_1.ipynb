{
 "cells": [
  {
   "cell_type": "markdown",
   "metadata": {},
   "source": [
    "# Aula 1/30 - 07/08/2023\n",
    "### Tópicos da Aula:\n",
    "+ Conteúdo;\n",
    "+ Informações Gerais, Tarefas e Cálculo da Nota;\n",
    "+ Calendário;\n",
    "+ Bibliografia;"
   ]
  },
  {
   "cell_type": "markdown",
   "metadata": {},
   "source": [
    "## Conteúdo:\n"
   ]
  },
  {
   "cell_type": "markdown",
   "metadata": {},
   "source": [
    "Objetivos: Expor conceitos e ambientes de programaçãoe e integração de módulos\n",
    "e programas;\n",
    "\n",
    "+ Início - Linguagem de montagem (baixo nível);\n",
    "+ Meio - Uso de ferramentas de uso operacional e de desenvolvimento de software;\n",
    "    + Técnicas para auxiliar na programação;\n",
    "    + Agilidade;\n",
    "    + Testes;\n",
    "+ Fim - Príncipios de orientação ao objeto;\n",
    "\n",
    "### Tópicos Abordados:\n",
    "+ Arquitetura de computadores;\n",
    "    + Linguagem de montagem;\n",
    "+ Integração com o SO;\n",
    "+ Gerenciamento de compilação;\n",
    "+ Modularização de Código;\n",
    "+ Bibliotecas;\n",
    "+ Documentação;\n",
    "+ Testes e depuração;\n",
    "+ Controle de versão;\n",
    "+ C, Python, C++, Bashscript e Assembly;"
   ]
  },
  {
   "cell_type": "markdown",
   "metadata": {},
   "source": [
    "\n",
    "\n",
    "\n",
    "## Informações Gerais, Tarefas e Cálculo da Nota:"
   ]
  },
  {
   "cell_type": "markdown",
   "metadata": {},
   "source": [
    "\n",
    "\n",
    "Informações gerais: \n",
    "    - 30 Aulas no total;\n",
    "    - 13/12 é a última aula;\n",
    "        - Aplicação da P2;\n",
    "\n",
    "Tarefas e Cálculo da Nota:\n",
    "\n",
    "EPS:\n",
    "+ Entrega até às 8h;\n",
    "+ EP1 - 28/8 - Assembly\n",
    "+ EP2 - 2/10 - Bashscript\n",
    "+ EP3 - 30/10 - Biblioteca\n",
    "+ EP4 - 27/11 - Orientação ao Objeto e Documentação\n",
    "\n",
    "Provas:\n",
    "+ P1 - 9/10\n",
    "+ 02 - 13/12\n",
    "\n",
    "Questões ao fim das aulas de segunda feira (10 no Total);\n",
    "\n",
    "Média Final:\n",
    "+ MQ - Média das Questões;\n",
    "    + Considerando as 7 notas mais altas;\n",
    "\n",
    "+ MP - Média das 2 provas;\n",
    "    + Uma delas pode ser substítuida pela MQ se a P2 não for feita;\n",
    "\n",
    "+ Se entregar todos os EPS e a MP >= 5 E MEP >= 5:\n",
    "    + MF = (MP + MEP) / 2\n",
    "+ Se entregar todos os EPS e a MP < 5 ou MEP < 5\n",
    "    + MF  = min(MP, MEP)\n",
    "+ Se não entregar todos os EPS:\n",
    "    + MF = 0;\n",
    "\n",
    "+ PRec - Prova de Recuperação\n",
    "    + MRec = (MF + 2 * PRec) / 3\n",
    "\n",
    "Frequência:\n",
    "+ Mais de 70% de presença;\n",
    "+ Reprovação por falta;\n",
    "+ Precisa vir em 20 aulas;\n",
    "    + Posso faltar 8 aulas;\n"
   ]
  },
  {
   "cell_type": "markdown",
   "metadata": {},
   "source": [
    "## Calendário:"
   ]
  },
  {
   "cell_type": "markdown",
   "metadata": {},
   "source": [
    "+ 8 Aulas;\n",
    "+ Pausa (Semana da Pátria);\n",
    "+ 2 Aulas;\n",
    "+ Pausa (Conferência);\n",
    "+ 15 Aulas;\n",
    "+ Pausa (Feriados);\n",
    "+ 3 Aulas;\n",
    "+ Pausa (Conferência);\n",
    "+ 2 Aulas;\n",
    "+ Pode faltar na Semana da Computação - Comprovando que estava em alguma palestra;\n",
    "+ Semana do Break do BCC vai ter aula;\n"
   ]
  },
  {
   "cell_type": "markdown",
   "metadata": {},
   "source": [
    "## Bibliografia:"
   ]
  },
  {
   "cell_type": "markdown",
   "metadata": {},
   "source": [
    "+ Bibliografia:\n",
    "+ Linux Assembly Language Programming;\n",
    "+ Python in a Nutshell;\n",
    "+ The Practice of Programming;\n",
    "+ Object - Oriented Analysis and Design with Applications;\n",
    "+ Advanced Bash - Scripting Guide;"
   ]
  }
 ],
 "metadata": {
  "language_info": {
   "name": "python"
  },
  "orig_nbformat": 4
 },
 "nbformat": 4,
 "nbformat_minor": 2
}
