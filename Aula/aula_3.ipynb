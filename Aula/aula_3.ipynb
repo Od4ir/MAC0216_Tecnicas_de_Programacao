{
 "cells": [
  {
   "cell_type": "markdown",
   "metadata": {},
   "source": [
    "# Aula 3/30 - 14/08/2023\n",
    "### Tópicos da Aula:\n",
    "+ "
   ]
  }
 ],
 "metadata": {
  "language_info": {
   "name": "python"
  },
  "orig_nbformat": 4
 },
 "nbformat": 4,
 "nbformat_minor": 2
}
