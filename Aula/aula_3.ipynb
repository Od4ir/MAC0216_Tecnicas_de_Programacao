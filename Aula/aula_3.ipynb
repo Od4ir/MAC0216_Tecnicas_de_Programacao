{
 "cells": [
  {
   "cell_type": "markdown",
   "metadata": {},
   "source": [
    "# Aula 3/30 - 14/08/2023\n",
    "### Tópicos da Aula:\n",
    "+ Organização da Memória\n",
    "+ Arquitetura da Família \n",
    "+ Linguagem de Montagem\n",
    "+ Montando o 1º Programa em Assembly\n",
    "+ Questão 1"
   ]
  },
  {
   "cell_type": "markdown",
   "metadata": {},
   "source": [
    "## Organização de Memória"
   ]
  },
  {
   "cell_type": "markdown",
   "metadata": {},
   "source": [
    "+ A memória vai ser um retângulo de bits e cada retãngulo é chamado de palavra;\n",
    "+ Tranferências de dados de/para memória são feitas de 1 ou mais palavras por vez;\n",
    "+ Palavras são numeradas consecutivamente iniciando em 0. Esses números são os endereços das palavras;\n",
    "    + Endereços indexados a partir do 0;\n",
    "+ Capacidade da memória = número de palavras vezes o tamanho da palavra;\n",
    "+ Geralmente vamos usar representação hexadecimal para fazer referências da memória;\n",
    "    + 0x10, 0xab (O 0x identifica que é hexadecimal);\n",
    "+ Para valores em binário colocamos um 'b' ao final - Se não tiver, é interpretado como hexadecimal;\n"
   ]
  },
  {
   "cell_type": "markdown",
   "metadata": {},
   "source": [
    "## Arquitetura de Família X86 ou 80x16"
   ]
  },
  {
   "cell_type": "markdown",
   "metadata": {},
   "source": [
    "+ Processador CISC;\n",
    "+ Família que mantém compatibilidade com os processadores anteriores;\n",
    "+ 8086, 80186, 80236, 80286, 80486, Pentium, Core i3, Core i7, Core i9...;\n",
    "\n",
    "### Arquitetura de 8080 (8 bits). Os registradores eram representados por letras:\n",
    "+ A - Acumulador: Movimentação de dados, operações aritméticas e de E/S;\n",
    "    + Esperamos os resultados das operações descritas no registrador A;\n",
    "+ B - Base: Como ponteiro(endereço) para acesso a memória e também recebe o retorno de algumas interrupções;\n",
    "    + Como o B aguenta 8 bits, o máximo de memória que temos é 256 bytes(2^8);\n",
    "+ C - Contador: Controla o número de vezes que um laço deve ser executado. Também é usado em algumas operações aritméticas. \n",
    "+ D - Dados: Usados em operações de E/S e também em multiplicação ou divisão de números grandes (Parte no A e outra nesse);\n",
    "+ H, F - Utilizados em conjunto como um único registrador de 16 bits. A parte mais significativa no H (High) e a menos significativa no L (Low);\n",
    "\n",
    "### Arquitetura de 8086 (16 bits):\n",
    "+ AX - AH e AL\n",
    "+ BX - BH e BL\n",
    "    + Agora dá para endereçar 2^16 (65.536 endereços de memória);\n",
    "+ CX - CH e CL\n",
    "+ DX - DH e DL\n",
    "+ SP - Stack Pointer: armazena o topo da pilha;\n",
    "+ BP - Stack Base Pointer: guarda a base da pilha;\n",
    "+ SI - Source Index\n",
    "+ DI - Destination Index\n",
    "    + SI, DI serviam para manipulação de strings e vetores;\n",
    "\n",
    "### Arquitetura de 80326 (32 bits):\n",
    "+ EAX - ( _| (AX));\n",
    "+ EBX - ( _| (BX));\n",
    "+ ECX - ( _| (CX));\n",
    "+ EDX - ( _| (DX));\n",
    "+ ESP - ( _| (SP));\n",
    "+ EBP - ( _ | (BP));\n",
    "+ ESI - (  _| (SI));\n",
    "+ EDI - (_  | (DI));"
   ]
  },
  {
   "cell_type": "markdown",
   "metadata": {},
   "source": [
    "### Registradores Intel X86-64 ou AM64 (64 bits):\n",
    "+ RAX;\n",
    "+ RBX;\n",
    "+ RCX;\n",
    "+ RDX;\n",
    "+ RSP;\n",
    "+ RBP;\n",
    "+ RSI;\n",
    "+ RDI;\n",
    "+ R8 - R15;\n",
    "+ RI e PC - Existem em todas; Marcam a instrução atual e a próxima;"
   ]
  },
  {
   "cell_type": "markdown",
   "metadata": {},
   "source": [
    "### Ciclo de busca e Execução Reinventado;\n",
    "\n",
    "1) Li a instrução de memória e armazena no RI;\n",
    "2) Muda o PC para que aponte ára a próxima instrução;\n",
    "3) Determina o tipo de instrução do passo 1;\n",
    "4) Se a instrução usa dado de memória, determina onde está;\n",
    "5) Carrega o dado, se necessário, em um registrador;\n",
    "6) Executa a instrução;\n",
    "7) Volta ao passo 1;"
   ]
  },
  {
   "cell_type": "markdown",
   "metadata": {},
   "source": [
    "## Linguagem de Montagem"
   ]
  },
  {
   "cell_type": "markdown",
   "metadata": {},
   "source": [
    "Para que aprender linguagem de montagem:\n",
    "**Pontos positivos:**\n",
    "+ Aprender como a CPU funciona;\n",
    "+ Ter controle total do código (desempenho);\n",
    "\n",
    "**Pontos negativos:**\n",
    "+ Código longo;\n",
    "+ Código de difícil manutenção;\n",
    "+ Resultado não é portável para outras arquiteturas;"
   ]
  },
  {
   "cell_type": "markdown",
   "metadata": {},
   "source": [
    "[Rótulo:] [Mnemônico] [Operandos] [;Comandos]"
   ]
  },
  {
   "cell_type": "raw",
   "metadata": {},
   "source": [
    "        MOV    CX, 5\n",
    "inicio: MOV    AX, 0X25\n",
    "        ADD    AX, AX\n",
    "        DEC    CX\n",
    "        JNZ    inicio"
   ]
  },
  {
   "cell_type": "markdown",
   "metadata": {},
   "source": [
    "Comando para transferência de dados: **MOV**:\n",
    "+ Copia o valor do segundo operando no primeiro operando;\n"
   ]
  },
  {
   "cell_type": "raw",
   "metadata": {},
   "source": [
    "MOV reg, reg/mem/const\n",
    "MOV mem, reg/const\n",
    "MOV EAX, EBX\n",
    "MOV BX, [100]\n",
    "MOV [100], AX"
   ]
  },
  {
   "cell_type": "markdown",
   "metadata": {},
   "source": [
    "Comando para adicionar o segundo operando com o 1º e salvar o resultado no 1º: **ADD**"
   ]
  },
  {
   "cell_type": "raw",
   "metadata": {},
   "source": [
    "ADD reg, reg/mem/const\n",
    "ADD AX, 2\n",
    "ADD AX, AX\n",
    "ADD AX, [100]"
   ]
  },
  {
   "cell_type": "markdown",
   "metadata": {},
   "source": [
    "Comando para incremento e decremento de 1 unidade: **INC** e **DEC**:"
   ]
  },
  {
   "cell_type": "raw",
   "metadata": {},
   "source": [
    "INC reg/mem\n",
    "DEC reg/mem\n",
    "INC AX = ADD AX, 1\n",
    "DEC AX = ADD AX, -1"
   ]
  },
  {
   "cell_type": "markdown",
   "metadata": {},
   "source": [
    "## Montando "
   ]
  }
 ],
 "metadata": {
  "language_info": {
   "name": "python"
  },
  "orig_nbformat": 4
 },
 "nbformat": 4,
 "nbformat_minor": 2
}
