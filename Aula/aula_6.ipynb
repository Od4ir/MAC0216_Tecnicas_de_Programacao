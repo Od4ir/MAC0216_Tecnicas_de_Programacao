{
 "cells": [
  {
   "cell_type": "markdown",
   "metadata": {},
   "source": [
    "# Aula 6/30 - 23/08/2023"
   ]
  },
  {
   "cell_type": "markdown",
   "metadata": {},
   "source": [
    "### Tópicos da Aula:\n",
    "+ Leitura de arquivo;\n",
    "+ Observações sobre algumas instruções;\n",
    "+ Instruções lógicas;"
   ]
  },
  {
   "cell_type": "markdown",
   "metadata": {},
   "source": [
    "## Leitura de arquivo"
   ]
  },
  {
   "cell_type": "markdown",
   "metadata": {},
   "source": [
    "Mais uma syscall:\n",
    "/usr/include/.../unistd_64.h\n",
    "\n",
    "read -> Identificar = 0\n",
    "\n",
    "int read (int fd, void * buf, size_t count):\n",
    "1) O descritor do arquivo;\n",
    "2) O endereço de memória ond vai guardar os dados;\n",
    "3) A quantidade de bytes a serem lidos (no caso do teclado o ENTER conta)\n",
    "\n",
    "A função lê *count* bytes do descritos do arquivo, *fd*, e guarda os bytes lidos no vetor *buf*. Para leitura de entrada padrão: cada caractere é um byte (caractere ASCII) e *fd* = *stdin*.\n",
    "\n"
   ]
  },
  {
   "cell_type": "markdown",
   "metadata": {},
   "source": [
    "## Observações sobre algumas instruções"
   ]
  },
  {
   "cell_type": "markdown",
   "metadata": {},
   "source": [
    "### Casos de Ambiguidade"
   ]
  },
  {
   "cell_type": "markdown",
   "metadata": {},
   "source": [
    "Podem ocorrer quando a instrução envolve um operadorando do tipo memória e outro do tipo constante. Exemplo:"
   ]
  },
  {
   "cell_type": "code",
   "execution_count": null,
   "metadata": {
    "vscode": {
     "languageId": "plaintext"
    }
   },
   "outputs": [],
   "source": [
    "MOV  [EBX], 5"
   ]
  },
  {
   "cell_type": "markdown",
   "metadata": {},
   "source": [
    "Neste caso, o número de palavras manipuladas na memória pode ser determinado de duas maneiras.\n",
    "+ A arquitetura do processador determina a quantidade de bits default (16, 32 ou 64 bits).\n",
    "+ Uso de notação para determinar a quantidade de bytes, veja a seguir:"
   ]
  },
  {
   "cell_type": "raw",
   "metadata": {},
   "source": [
    "MOV    BYTE[EBX], 5     ; BYTE para designar 8 bits.\n",
    "MOV    WORD[EBX], 5     ; WORD para designar 16 bits;\n",
    "MOV   DWORD[EBX], 5     ; DWORD para designar 32 bits;"
   ]
  },
  {
   "cell_type": "markdown",
   "metadata": {},
   "source": [
    "### Exceções:\n",
    "+ Divisão por zero;\n",
    "+ Transbordamento (overflow) - Ocorre, por exemplo, quando o resto gerado da divisão não cabe no registrador. "
   ]
  },
  {
   "cell_type": "raw",
   "metadata": {},
   "source": [
    "MOV  AX, 1024\n",
    "MOV  BH, 2\n",
    "DIV  BH"
   ]
  },
  {
   "cell_type": "markdown",
   "metadata": {},
   "source": [
    "No exemplo acima, o quociente deveria ser armazenado em AL, mas 512 ocupa no mínimo 10 bits. Nesse caso, o programa encerra a execução abruptamente e o valor de retorno é != 0 (echo $? no shell mostra o valor)."
   ]
  }
 ],
 "metadata": {
  "language_info": {
   "name": "python"
  },
  "orig_nbformat": 4
 },
 "nbformat": 4,
 "nbformat_minor": 2
}
