{
 "cells": [
  {
   "cell_type": "markdown",
   "metadata": {},
   "source": [
    "# Aula 6/30 - 23/08/2023"
   ]
  },
  {
   "cell_type": "markdown",
   "metadata": {},
   "source": [
    "### Tópicos da Aula:\n",
    "+ Leitura de arquivo;\n",
    "+ Observações sobre algumas instruções;\n",
    "+ Instruções lógicas;"
   ]
  },
  {
   "cell_type": "markdown",
   "metadata": {},
   "source": [
    "## Declaração de Variáveis:"
   ]
  },
  {
   "cell_type": "raw",
   "metadata": {},
   "source": [
    "section .text\n",
    "mov eax, VAR1\n",
    "\n",
    "\n",
    "MOV eax, [VAR1]\n",
    "\n",
    "section .data\n",
    "VAR1: dw 0xf17"
   ]
  },
  {
   "cell_type": "markdown",
   "metadata": {},
   "source": [
    "## Declaração de Constantes:"
   ]
  },
  {
   "cell_type": "raw",
   "metadata": {},
   "source": [
    "(nome)  (equ)  (valor)\n",
    "ENTER: equ 0xa"
   ]
  },
  {
   "cell_type": "markdown",
   "metadata": {},
   "source": [
    "## Leitura de arquivo"
   ]
  },
  {
   "cell_type": "markdown",
   "metadata": {},
   "source": [
    "Mais uma syscall:\n",
    "/usr/include/.../unistd_64.h\n",
    "\n",
    "read -> Identificar = 0\n",
    "\n",
    "int read (int fd, void * buf, size_t count):\n",
    "1) O descritor do arquivo;\n",
    "2) O endereço de memoória ond vai guardar os dados;\n",
    "3) A quantidade de bytes a serem lidos (no caso do teclado o ENTER conta)"
   ]
  }
 ],
 "metadata": {
  "language_info": {
   "name": "python"
  },
  "orig_nbformat": 4
 },
 "nbformat": 4,
 "nbformat_minor": 2
}
